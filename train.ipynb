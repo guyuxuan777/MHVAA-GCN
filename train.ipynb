{
 "cells": [
  {
   "cell_type": "code",
   "execution_count": 19,
   "metadata": {},
   "outputs": [],
   "source": [
    "import torch\n",
    "import torch.nn as nn\n",
    "import torch.optim as optim\n",
    "import numpy as np\n",
    "from torch.utils.data import DataLoader, Dataset\n",
    "from sklearn.metrics import precision_score, recall_score, f1_score\n",
    "from torch.utils.data import random_split\n",
    "import pandas as pd\n",
    "from sklearn.model_selection import train_test_split\n",
    "from sklearn.preprocessing import StandardScaler\n",
    "from Model import FullModel"
   ]
  },
  {
   "cell_type": "code",
   "execution_count": null,
   "metadata": {},
   "outputs": [],
   "source": [
    "train_data = np.load('./Dataset/FCU/train_data_FCU.npy')\n",
    "train_labels = np.load('./Dataset/FCU/train_labels_FCU.npy')\n",
    "test_data = np.load('./Dataset/FCU/test_data_FCU.npy')\n",
    "test_labels = np.load('./Dataset/FCU/test_labels_FCU.npy')\n",
    "\n",
    "train_data.shape, train_labels.shape, test_data.shape, test_labels.shape"
   ]
  },
  {
   "cell_type": "code",
   "execution_count": 85,
   "metadata": {},
   "outputs": [],
   "source": [
    "def add_noise(data, noise_factor=0.01):\n",
    "    noise = np.random.randn(*data.shape) * noise_factor\n",
    "    return data + noise\n",
    "\n",
    "class HVACDataset(Dataset):\n",
    "    def __init__(self, data, labels, augment=False):\n",
    "        self.data = data  \n",
    "        self.labels = labels  \n",
    "        self.augment = augment\n",
    "\n",
    "    def __len__(self):\n",
    "        return len(self.data)\n",
    "\n",
    "    def __getitem__(self, idx):\n",
    "    \n",
    "        data = torch.tensor(self.data[idx], dtype=torch.float32)\n",
    "        label = torch.tensor(self.labels[idx], dtype=torch.long)\n",
    "        if self.augment:\n",
    "            data = add_noise(data.numpy()) \n",
    "            data = torch.tensor(data, dtype=torch.float32)\n",
    "        \n",
    "        return data, label"
   ]
  },
  {
   "cell_type": "code",
   "execution_count": 86,
   "metadata": {},
   "outputs": [],
   "source": [
    "train_dataset = HVACDataset(train_data, train_labels, augment=True)\n",
    "test_dataset = HVACDataset(test_data, test_labels)\n",
    "train_loader = DataLoader(train_dataset, batch_size=10, shuffle=True)\n",
    "test_loader = DataLoader(test_dataset, batch_size=10, shuffle=False)"
   ]
  },
  {
   "cell_type": "code",
   "execution_count": 87,
   "metadata": {},
   "outputs": [],
   "source": [
    "def train_model(train_loader, test_loader, model, criterion, optimizer, num_epochs=10, device='cpu', margin=1.0):\n",
    "    model.to(device)\n",
    "\n",
    "    for epoch in range(num_epochs):\n",
    "        model.train()\n",
    "        running_loss = 0.0\n",
    "        running_classification_loss = 0.0 \n",
    "        correct = 0\n",
    "        total = 0\n",
    "\n",
    "        for X_batch, y_batch in train_loader:\n",
    "            X_batch = X_batch.to(device)  \n",
    "            y_batch = y_batch.to(device)  \n",
    "\n",
    "            optimizer.zero_grad()\n",
    "            outputs, embeddings = model(X_batch, return_embedding=True)\n",
    "            classification_loss = criterion(outputs, y_batch)\n",
    "            loss = classification_loss \n",
    "\n",
    "            loss.backward()\n",
    "            optimizer.step()\n",
    "            running_loss += loss.item()\n",
    "            running_classification_loss += classification_loss.item()\n",
    "            _, predicted = torch.max(outputs, dim=1)\n",
    "            correct += (predicted == y_batch).sum().item()\n",
    "            total += y_batch.size(0)\n",
    "        train_loss = running_loss / len(train_loader)\n",
    "\n",
    "\n",
    "        model.eval()\n",
    "        test_loss = 0.0\n",
    "        correct_test = 0\n",
    "        total_test = 0\n",
    "        with torch.no_grad():\n",
    "            for X_batch, y_batch in test_loader:\n",
    "                X_batch = X_batch.to(device)\n",
    "                y_batch = y_batch.to(device)\n",
    "\n",
    "                outputs = model(X_batch)  \n",
    "                loss = criterion(outputs, y_batch)\n",
    "                test_loss += loss.item()\n",
    "\n",
    "                _, predicted = torch.max(outputs, dim=1)\n",
    "                correct_test += (predicted == y_batch).sum().item()\n",
    "                total_test += y_batch.size(0)\n",
    "\n",
    "        test_loss /= len(test_loader)\n",
    "        test_accuracy = correct_test / total_test\n",
    "\n",
    "        print(f\"Epoch [{epoch+1}/{num_epochs}], \"\n",
    "                f\"Train Loss: {train_loss:.4f}, \"\n",
    "                f\"Test Acc: {test_accuracy*100:.2f}%\")"
   ]
  },
  {
   "cell_type": "code",
   "execution_count": 88,
   "metadata": {},
   "outputs": [],
   "source": [
    "batch_size = 32\n",
    "T = 4      \n",
    "N = train_data.shape[2]        \n",
    "feature_dim = train_data.shape[3]  \n",
    "hidden_features = 64\n",
    "out_features = 32\n",
    "num_heads = 2\n",
    "lag_window = 2\n",
    "D = 5       \n",
    "num_classes = 7\n",
    "dropout_rate = 0.5\n",
    "num_epochs = 50\n",
    "device = 'cpu'  "
   ]
  },
  {
   "cell_type": "code",
   "execution_count": null,
   "metadata": {},
   "outputs": [],
   "source": [
    "model = FullModel(\n",
    "    in_features=feature_dim,\n",
    "    hidden_features=hidden_features,\n",
    "    out_features=out_features,\n",
    "    num_heads=num_heads,\n",
    "    lag_window=lag_window,\n",
    "    D=D,\n",
    "    N=N,\n",
    "    num_classes=num_classes,\n",
    "    dropout_rate=dropout_rate\n",
    ")\n",
    "\n",
    "criterion = nn.CrossEntropyLoss()\n",
    "optimizer = torch.optim.Adam(model.parameters(), lr=1e-3)\n",
    "\n",
    "train_model(train_loader, test_loader, model, criterion, optimizer, num_epochs=num_epochs, device=device)\n"
   ]
  },
  {
   "cell_type": "code",
   "execution_count": null,
   "metadata": {},
   "outputs": [],
   "source": []
  }
 ],
 "metadata": {
  "kernelspec": {
   "display_name": "Python 3",
   "language": "python",
   "name": "python3"
  },
  "language_info": {
   "codemirror_mode": {
    "name": "ipython",
    "version": 3
   },
   "file_extension": ".py",
   "mimetype": "text/x-python",
   "name": "python",
   "nbconvert_exporter": "python",
   "pygments_lexer": "ipython3",
   "version": "3.10.8"
  }
 },
 "nbformat": 4,
 "nbformat_minor": 2
}
